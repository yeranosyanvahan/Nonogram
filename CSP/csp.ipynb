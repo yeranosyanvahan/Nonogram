{
 "cells": [
  {
   "cell_type": "code",
   "execution_count": 1,
   "id": "0429edff",
   "metadata": {
    "ExecuteTime": {
     "end_time": "2022-11-25T12:24:49.336013Z",
     "start_time": "2022-11-25T12:24:48.101035Z"
    },
    "cell_style": "center"
   },
   "outputs": [],
   "source": [
    "import pandas as pd\n",
    "import numpy as np\n",
    "import seaborn as sns\n",
    "from PIL import Image, ImageDraw,ImageFont\n",
    "from itertools import combinations\n",
    "import time\n",
    "import sys\n",
    "import os\n",
    "import shutil\n",
    "import requests"
   ]
  },
  {
   "cell_type": "code",
   "execution_count": 2,
   "id": "39c98834-f3fe-4df9-ab2f-ad34eb152fcf",
   "metadata": {
    "ExecuteTime": {
     "end_time": "2022-11-25T12:24:49.336013Z",
     "start_time": "2022-11-25T12:24:48.101035Z"
    },
    "cell_style": "center"
   },
   "outputs": [],
   "source": [
    "df = pd.read_csv('nono.csv')\n",
    "sys.setrecursionlimit(1000)"
   ]
  },
  {
   "cell_type": "code",
   "execution_count": 3,
   "id": "26f871ff",
   "metadata": {},
   "outputs": [],
   "source": [
    "from rich import print"
   ]
  },
  {
   "cell_type": "markdown",
   "id": "a6baeaf2",
   "metadata": {},
   "source": [
    "## Nonodraw"
   ]
  },
  {
   "cell_type": "code",
   "execution_count": 4,
   "id": "c0878a77",
   "metadata": {
    "ExecuteTime": {
     "end_time": "2022-11-25T09:59:29.158049Z",
     "start_time": "2022-11-25T09:59:29.126812Z"
    }
   },
   "outputs": [],
   "source": [
    "def Nonodraw(n):\n",
    "    '''Algorythom that draw image of the nonogram given its configuration'''\n",
    "    col_matrix = n['col']\n",
    "    row_matrix = n['row']\n",
    "    canvas = n['canvas']\n",
    "\n",
    "    col_matrix[col_matrix==0] = -5\n",
    "    row_matrix[row_matrix==0] = -5\n",
    "    canvas[canvas==-1] = -2\n",
    "    canvas[canvas==1] = -1\n",
    "  \n",
    "    dmy = np.ones((col_matrix.shape[0], row_matrix.shape[1]))*-5\n",
    "    tp = np.concatenate((dmy,col_matrix), axis=1)\n",
    "    btm = np.concatenate((row_matrix,canvas), axis=1)\n",
    "    board = np.concatenate((tp,btm), axis=0)\n",
    "    h,w = tuple([100*i for i in board.shape])\n",
    "\n",
    "    img = Image.new(\"RGB\", (w, h))\n",
    "    img1 = ImageDraw.Draw(img)\n",
    "\n",
    "    \n",
    "    font = ImageFont.truetype(r'/usr/share/fonts/noto/NotoSans-Light.ttf', 50)\n",
    "\n",
    "    for i in range(board.shape[1]):\n",
    "        for j in range(board.shape[0]):\n",
    "            shape=[(100*i, 100*j),(100*(i+1), 100*(j+1))]\n",
    "            img1.rectangle(shape, fill =\"#CBE5F2\", outline =\"#000\")\n",
    "            if int(board.tolist()[j][i])!=0 and int(board.tolist()[j][i])!=-5:\n",
    "                img1.text((100*(i+0.28), 100*(j+0.24)), str(int(board.tolist()[j][i])), fill =\"black\", font = font, align =\"center\") \n",
    "            if int(board.tolist()[j][i])==-1:\n",
    "                img1.rectangle(shape, fill =\"#000\", outline =\"#000\")\n",
    "            if int(board.tolist()[j][i])==-5:\n",
    "                img1.rectangle(shape, fill =\"#CBE5F2\", outline =\"#000\")\n",
    "            if int(board.tolist()[j][i])==-2:\n",
    "                img1.rectangle(shape, fill =\"white\", outline =\"#000\")\n",
    "            if int(board.tolist()[j][i])==0:\n",
    "                img1.rectangle(shape, fill =\"#ddd\", outline =\"#000\")\n",
    "    return img"
   ]
  },
  {
   "cell_type": "markdown",
   "id": "7f53c22f",
   "metadata": {},
   "source": [
    "## Part 1: Defining the intersection run"
   ]
  },
  {
   "cell_type": "code",
   "execution_count": 5,
   "id": "c3ae8bd0",
   "metadata": {
    "ExecuteTime": {
     "end_time": "2022-11-25T12:24:49.881627Z",
     "start_time": "2022-11-25T12:24:49.866042Z"
    },
    "cell_style": "split"
   },
   "outputs": [],
   "source": [
    "def Nonogram(mtx):\n",
    "    '''Initializes Nonogram object without OOP :) '''\n",
    "    canvas = np.zeros((mtx.sizeCol, mtx.sizeRow), dtype=int)\n",
    "\n",
    "    col = [int(i) for i in mtx.rowClues.replace(' ','0').replace('\\xa0','0').split(',')]\n",
    "    col = np.asmatrix(col).reshape(len(col)//mtx.sizeRow, mtx.sizeRow)\n",
    "\n",
    "    row = [int(i) for i in mtx.colClues.replace(' ','0').replace('\\xa0','0').split(',')]\n",
    "    row = np.asmatrix(row).reshape(mtx.sizeCol,len(row)//mtx.sizeCol)\n",
    "\n",
    "    rc = [[i for i in row[j].tolist()[0] if i!=0] for j in range(len(row))]\n",
    "    cc = [[i for i in col.T[j].tolist()[0] if i!=0] for j in range(len(col.T))]\n",
    "    \n",
    "    return {\"canvas\": canvas,\n",
    "           \"cc\":cc,\n",
    "           \"rc\":rc,\n",
    "           \"sizeCol\": mtx.sizeCol,\n",
    "           \"sizeRow\": mtx.sizeRow,\n",
    "           \"col\": col,\n",
    "           \"row\": row}"
   ]
  },
  {
   "cell_type": "code",
   "execution_count": 6,
   "id": "ad838e5a-1d09-496f-b5f6-1d260256acf7",
   "metadata": {
    "ExecuteTime": {
     "end_time": "2022-11-25T12:24:49.734466Z",
     "start_time": "2022-11-25T12:24:49.703152Z"
    },
    "cell_style": "split"
   },
   "outputs": [],
   "source": [
    "def heur(rc):\n",
    "    ''' this function returns the number of cells \n",
    "    that will be left after filling the row with given row constraint'''\n",
    "    return mtx.sizeCol-np.sum(rc)-np.count_nonzero(rc)+1\n",
    "\n",
    "def order_heur(rc):\n",
    "    '''This orders the row constraints based in the heur function'''\n",
    "    ss =[(mtx.sizeCol-np.sum(i)-np.count_nonzero(i)+1,j) for j,i in enumerate(rc)]\n",
    "    df = {'heur':[i[0] for i in ss],'ind':[i[1] for i in ss]}\n",
    "#     reordered=pd.DataFrame(df).sort_values('heur').ind.tolist()\n",
    "#     return {'list':rc[ reordered,:], \"ind\":reordered}\n",
    "    return pd.DataFrame(df).sort_values('heur').ind.tolist()"
   ]
  },
  {
   "cell_type": "code",
   "execution_count": 7,
   "id": "be7d7b9b",
   "metadata": {
    "ExecuteTime": {
     "end_time": "2022-11-25T12:24:50.019804Z",
     "start_time": "2022-11-25T12:24:50.004167Z"
    },
    "cell_style": "split"
   },
   "outputs": [],
   "source": [
    "def left(canvas, rc): # canvas, rc or canvas.T and cc\n",
    "    '''calculates the leftmost run for given row constaint'''\n",
    "    dec = canvas.copy()\n",
    "    for i in order_heur(rc):\n",
    "        lng , s = len(dec[i,:]) , 0\n",
    "        for j,k in enumerate(rc[i]):\n",
    "            for m in range(lng):\n",
    "                s+=1\n",
    "                if k!=m:\n",
    "                    dec[i,:][s-1]=j+1\n",
    "                else:\n",
    "                    break    \n",
    "    return dec"
   ]
  },
  {
   "cell_type": "code",
   "execution_count": 8,
   "id": "d8ab825f",
   "metadata": {
    "ExecuteTime": {
     "end_time": "2022-11-25T12:24:50.182129Z",
     "start_time": "2022-11-25T12:24:50.150836Z"
    },
    "cell_style": "split"
   },
   "outputs": [],
   "source": [
    "def right(canvas, rc): # canvas, rc or canvas.T and cc\n",
    "    '''calculates the rightmost run for given row constaint'''\n",
    "    dec = canvas.copy()\n",
    "    for i in order_heur(rc):\n",
    "        lng , s = len(dec[i,:]) , 0\n",
    "        for j,k in reversed(list(enumerate(rc[i]))):\n",
    "            for m in range(lng):\n",
    "                s+=1\n",
    "                if k!=m:\n",
    "                    dec[i,:][lng-s]=j+1\n",
    "                else:\n",
    "                    break    \n",
    "    return dec"
   ]
  },
  {
   "cell_type": "code",
   "execution_count": 9,
   "id": "c8a58f72",
   "metadata": {
    "ExecuteTime": {
     "end_time": "2022-11-25T12:24:50.319797Z",
     "start_time": "2022-11-25T12:24:50.288472Z"
    },
    "cell_style": "split"
   },
   "outputs": [],
   "source": [
    "def conj(canvas, rc):\n",
    "    '''calculates the conjunction of the leftmost and rightmost runs'''\n",
    "    lf = left(canvas,rc)\n",
    "    rg = right(canvas,rc)\n",
    "    ccc = canvas.copy()\n",
    "    for i,_ in enumerate(lf):\n",
    "        for j,_ in enumerate(lf[i]):\n",
    "            if lf[i][j] == rg[i][j] and lf[i][j] != 0 and rg[i][j]!=0:\n",
    "                ccc[i][j] = 1\n",
    "    return ccc        "
   ]
  },
  {
   "cell_type": "code",
   "execution_count": 10,
   "id": "47473095",
   "metadata": {
    "ExecuteTime": {
     "end_time": "2022-11-25T12:24:50.451293Z",
     "start_time": "2022-11-25T12:24:50.419979Z"
    },
    "cell_style": "split"
   },
   "outputs": [],
   "source": [
    "def superconj(n):\n",
    "    '''calculates the conjunction of the row constraint \n",
    "    and column constraintes based on conj funciton'''\n",
    "    rw = conj(n['canvas'], n['rc'])\n",
    "    cw = conj(n['canvas'].T, n['cc']).T\n",
    "    return np.asarray([[rw[i][j] or cw[i][j] for j,_ in enumerate(rw[i])] for i,_ in enumerate(rw)])"
   ]
  },
  {
   "cell_type": "code",
   "execution_count": 11,
   "id": "f7c54fa5",
   "metadata": {},
   "outputs": [],
   "source": [
    "def verify(temp):\n",
    "    '''verifies if any row constraint is satisfied or not\n",
    "    and applies the satisfied rows to the actual nonogram matrix'''\n",
    "    temp = superconj(n)\n",
    "    for i,row in enumerate(temp):\n",
    "        if sat(n['rc'][i],row):\n",
    "            temp[i][temp[i]==0] = -1\n",
    "    ctemp = superconj(n).T\n",
    "    for i,col in enumerate(ctemp):\n",
    "        if sat(n['cc'][i],col):\n",
    "            ctemp[i][ctemp[i]==0] = -1\n",
    "    return temp|ctemp.T"
   ]
  },
  {
   "cell_type": "markdown",
   "id": "b5ce6771",
   "metadata": {},
   "source": [
    "## Part 2: Generating the tree"
   ]
  },
  {
   "cell_type": "code",
   "execution_count": 12,
   "id": "9f32b3cf",
   "metadata": {
    "ExecuteTime": {
     "end_time": "2022-11-25T12:24:52.727945Z",
     "start_time": "2022-11-25T12:24:52.696602Z"
    },
    "cell_style": "split"
   },
   "outputs": [],
   "source": [
    "def _cp(n_empty, groups, ones, cnv):\n",
    "    '''helper function to generate the possible configurations for each constraint'''\n",
    "    res_opts = []\n",
    "    for p in combinations(range(groups+n_empty), groups):\n",
    "        selected = [-1]*(groups+n_empty)\n",
    "        ones_idx = 0\n",
    "        for val in p:\n",
    "            selected[val] = ones_idx\n",
    "            ones_idx += 1\n",
    "        res_opt = [ones[val]+[-1] if val > -1 else [-1] for val in selected]\n",
    "        res_opt = [item for sublist in res_opt for item in sublist][:-1]\n",
    "        tf = np.asarray(cnv)+np.asarray(res_opt)\n",
    "        if len(tf[tf==0])==0:\n",
    "            res_opts.append(res_opt)\n",
    "    return res_opts"
   ]
  },
  {
   "cell_type": "code",
   "execution_count": 13,
   "id": "6fdeeea2",
   "metadata": {
    "ExecuteTime": {
     "end_time": "2022-11-25T12:24:52.859449Z",
     "start_time": "2022-11-25T12:24:52.843815Z"
    },
    "cell_style": "split"
   },
   "outputs": [],
   "source": [
    "def create_possibilities(values, no_of_other):\n",
    "    '''generates the possible configurations of each row constraint'''\n",
    "    t = []\n",
    "\n",
    "    for i,v in enumerate(values):\n",
    "        groups = len(v)\n",
    "        no_empty = no_of_other-sum(v)-groups+1\n",
    "        ones = [[1]*x for x in v]\n",
    "        res = _cp(no_empty, groups, ones, n['canvas'][i])\n",
    "        t.append(res) \n",
    "    return t"
   ]
  },
  {
   "cell_type": "markdown",
   "id": "454e37b7",
   "metadata": {},
   "source": [
    "## Part 3: Backtracking"
   ]
  },
  {
   "cell_type": "code",
   "execution_count": 14,
   "id": "62dcdc18",
   "metadata": {},
   "outputs": [],
   "source": [
    "def dfs_map(t):\n",
    "    '''defining a python dict which describes the search tree\n",
    "    i.e. the child parent relation of each constraint configurations'''\n",
    "    s= 0\n",
    "    p = []\n",
    "    mp = {}\n",
    "    for i in t:\n",
    "        l = []\n",
    "        for j in i:\n",
    "            l.append(s)\n",
    "            s+=1\n",
    "        p.append(l)\n",
    "    for i in range(len(p)-1):\n",
    "        for j in p[i]:\n",
    "            mp.update({str(j): [str(u) for u in p[i+1]]})\n",
    "    for i in p[-1]:\n",
    "        mp.update({str(i):[]})\n",
    "    mp.update({'-1':[str(i) for i,_ in enumerate(t[0])]})\n",
    "    return mp"
   ]
  },
  {
   "cell_type": "code",
   "execution_count": 15,
   "id": "d217027b",
   "metadata": {
    "ExecuteTime": {
     "end_time": "2022-11-25T12:24:56.426933Z",
     "start_time": "2022-11-25T12:24:56.411305Z"
    },
    "cell_style": "split"
   },
   "outputs": [],
   "source": [
    "def siblings(graph):    \n",
    "    ''' returns the list of sibling configurations'''\n",
    "    x = []\n",
    "    x += [i for i in graph.values()]\n",
    "    return x"
   ]
  },
  {
   "cell_type": "code",
   "execution_count": 16,
   "id": "1463c020",
   "metadata": {},
   "outputs": [],
   "source": [
    "def flatten(t):\n",
    "    '''gives 1D array of all configurations of row constraints'''\n",
    "    x = []\n",
    "    for i in t:\n",
    "        for k in i:\n",
    "            x.append(k)\n",
    "    return x"
   ]
  },
  {
   "cell_type": "code",
   "execution_count": 17,
   "id": "ae20a4e4",
   "metadata": {},
   "outputs": [],
   "source": [
    "def sat(rc, temp_row):\n",
    "    '''checks wheter the configuration satisfies corresponding row constraint'''\n",
    "    strcheck=[str(i) for i in temp_row]\n",
    "    cnvcheck=[str(i) for i in temp_row]\n",
    "    k = [len(j) for j in ''.join(strcheck).split('0') if len(j)!=0]\n",
    "    ck = [len(j) for j in ''.join(cnvcheck).split('0') if len(j)!=0]\n",
    "    if (rc==k and heur(rc)==0) or ck==rc:\n",
    "        return True\n",
    "    else: \n",
    "        return False"
   ]
  },
  {
   "cell_type": "code",
   "execution_count": 18,
   "id": "b59b32d5",
   "metadata": {},
   "outputs": [],
   "source": [
    "def dfs(stack,graph,node,sbl):\n",
    "    ''' the actual backtracking algorythm which \n",
    "    generates all possible configurations of the whole nonogram matrix'''\n",
    "    stack+=graph[node][::-1]\n",
    "    if int(node) > int(lst[-1]):\n",
    "        lst.append(node)\n",
    "    else:\n",
    "        lst.pop()\n",
    "        lst.append(node)\n",
    "    for k in lst:\n",
    "        if [i for i in sbl if lst[-1] in i] == [i for i in sbl if k in i] and [i for i in sbl if k in i]!=[]:\n",
    "            while lst[-1] != k:\n",
    "                lst.pop()\n",
    "            lst.pop()\n",
    "            lst.append(node)\n",
    "    paths.append(lst[3:])\n",
    "    if len(stack) == 0:\n",
    "        return\n",
    "    nxt=stack.pop()    \n",
    "    dfs(stack,graph,nxt,sbl)"
   ]
  },
  {
   "cell_type": "code",
   "execution_count": 19,
   "id": "2f5d9840",
   "metadata": {},
   "outputs": [],
   "source": [
    "def compose_temp_canvas(conf):\n",
    "    '''composes a configuration of nonogram matrix based on the order defined with backtracking algorythm'''\n",
    "    temp = np.asarray([flatten(t)[int(i)] for i in conf])\n",
    "    rest = n['canvas'][len(conf):]\n",
    "    return np.concatenate((temp,rest), axis=0)"
   ]
  },
  {
   "cell_type": "code",
   "execution_count": 20,
   "id": "ec9b5f28",
   "metadata": {
    "scrolled": true
   },
   "outputs": [],
   "source": [
    "def cont(temp):\n",
    "    ''' returns True wheter the nonogram configuration is applicable'''\n",
    "    for i,j in enumerate(temp):\n",
    "        rc = n['cc'][i]\n",
    "        x = ''.join([str(i) for i in j]).split('-1')\n",
    "        temp_const = [sum([int(j) for j in i]) for i in x]\n",
    "        fn = [i for i in temp_const if i!=0]\n",
    "#         print(all([a>=b for a,b in zip(rc,fn+[0]*(len(rc)-len(fn)))]), rc==fn+[0]*(len(rc)-len(fn)), rc,fn+[0]*(len(rc)-len(fn)))\n",
    "        if rc==fn+[0]*(len(rc)-len(fn)):\n",
    "            continue\n",
    "        else:\n",
    "            return False\n",
    "    return True"
   ]
  },
  {
   "cell_type": "code",
   "execution_count": 21,
   "id": "57f73fee",
   "metadata": {
    "scrolled": false
   },
   "outputs": [],
   "source": [
    "def Solve(paths):\n",
    "    '''function to iterate over matrix configurations and check for applicable configuration and return it'''\n",
    "    for i in paths:\n",
    "        ss = compose_temp_canvas(i).T\n",
    "        if cont(ss):\n",
    "            return ss.T"
   ]
  },
  {
   "cell_type": "markdown",
   "id": "d035a35a",
   "metadata": {},
   "source": [
    "## Final testings"
   ]
  },
  {
   "cell_type": "code",
   "execution_count": 22,
   "id": "59dded8a",
   "metadata": {
    "scrolled": true
   },
   "outputs": [],
   "source": [
    "info = {}  # used for storing the times measures\n",
    "p1 = []    # for storing iteration duration of first part\n",
    "p2 = []    # for storing iteration duration of second part\n",
    "p3 = []    # for storing iteration duration of third part\n",
    "total = [] # for storing total runtime of the algorythm\n",
    "size = []  # for storing the sizes of each considered nonogram\n",
    "rec = []   # stores the nonogram index from the nono.csv dataframe which are complex \n",
    "           #     and the machine doesn't have the power to run dfs on them\n",
    "\n",
    "df = pd.read_csv('nono.csv')\n",
    "\n",
    "# order the dataframe to run the easiest puzzles at first then increasing the complxity\n",
    "ss = df.sort_values(['sizeCol','sizeRow']).iloc[:157,:] # providing higher number may make \n",
    "                                                        # algorythm to run really long\n",
    "\n",
    "for hh,_ in enumerate(ss.iterrows()):\n",
    "    try:\n",
    "        if hh not in rec:\n",
    "            t1 = time.time()\n",
    "            mtx=ss.iloc[hh,:]\n",
    "            n = Nonogram(mtx)\n",
    "            n['canvas'] = verify(superconj(n))\n",
    "            t2 = time.time()\n",
    "\n",
    "            t = create_possibilities(n['rc'], n['sizeRow'])\n",
    "\n",
    "            t3 = time.time()\n",
    "\n",
    "            stack = []\n",
    "            node='-1'\n",
    "            lst = ['-5','-2']\n",
    "            paths = []\n",
    "            graph = dfs_map(t)\n",
    "            sbl= siblings(graph)\n",
    "            dfs(stack,graph,node,sbl)\n",
    "            n['canvas'] = Solve(paths[1:])\n",
    "            t4 = time.time()\n",
    "\n",
    "            p1.append(t2-t1)\n",
    "            p2.append(t3-t2)\n",
    "            p3.append(t4-t3)\n",
    "            total.append(t4-t1)\n",
    "            size.append(n['sizeCol']*n['sizeRow'])\n",
    "            info.update({'p1':p1,'p2':p2,'p3':p3,'total':total,'size':size})\n",
    "\n",
    "\n",
    "            img_data = requests.get(mtx.solution).content\n",
    "            with open(f'Images/{hh}_sol.jpg', 'wb') as handler:\n",
    "                handler.write(img_data)\n",
    "            Nonodraw(n).save(f'Images/{hh}.jpg')\n",
    "\n",
    "            image1 = Image.open(f'Images/{hh}_sol.jpg')\n",
    "            image2 = Image.open(f'Images/{hh}.jpg')\n",
    "            image1_size = image1.size\n",
    "            image2_size = image2.size\n",
    "            image2 = image2.resize(image1.size)\n",
    "            new_image = Image.new('RGB',(2*image1_size[0], image1_size[1]), (250,250,250))\n",
    "            new_image.paste(image1,(0,0))\n",
    "            new_image.paste(image2,(image1_size[0],0))\n",
    "            new_image.save(f\"Images/Both/{hh}.jpg\",\"JPEG\")\n",
    "    except RecursionError: # used to avid the recursionLimit error, so it doesn't fry my cpu :)\n",
    "        rec.append(hh) # storing the 'difficult' ones just in case"
   ]
  },
  {
   "cell_type": "code",
   "execution_count": 23,
   "id": "255a4b73",
   "metadata": {
    "scrolled": false
   },
   "outputs": [],
   "source": [
    "# cleaning up the ./Images directory\n",
    "filelist = [ f for f in os.listdir('./Images') if f.endswith(\".jpg\") ]\n",
    "for f in filelist:\n",
    "    os.remove(os.path.join('./Images', f))"
   ]
  },
  {
   "cell_type": "markdown",
   "id": "694d018c",
   "metadata": {},
   "source": [
    "## Results"
   ]
  },
  {
   "cell_type": "markdown",
   "id": "344032c8",
   "metadata": {},
   "source": [
    "Actually you can find the solved puzzle images in the \n",
    "    ```./Images/Both```\n",
    "    directory. \n",
    "   \n",
    "Some examples. Left part is the actual solution and the right one is the solution of the algorythm\n",
    "\n",
    "![Sample](./Images/Both/103.jpg)\n",
    "![Sample](./Images/Both/106.jpg)\n",
    "![Sample](./Images/Both/154.jpg)\n",
    "![Sample](./Images/Both/156.jpg)"
   ]
  },
  {
   "cell_type": "markdown",
   "id": "5835b715",
   "metadata": {},
   "source": [
    "### Below is the runtime complexty graph."
   ]
  },
  {
   "cell_type": "code",
   "execution_count": 25,
   "id": "b2a40760",
   "metadata": {
    "scrolled": false
   },
   "outputs": [
    {
     "data": {
      "image/png": "[encoded data removed]",
      "text/plain": [
       "<Figure size 1082x1000 with 4 Axes>"
      ]
     },
     "metadata": {},
     "output_type": "display_data"
    }
   ],
   "source": [
    "# plotting the results\n",
    "dd = pd.DataFrame(info)\n",
    "gg = dd.groupby('size').mean()\n",
    "rr = gg.stack().reset_index()\n",
    "rr.columns= ['size','part','time']\n",
    "\n",
    "sns.relplot(\n",
    "    data=rr,\n",
    "    x=\"size\", y=\"time\",\n",
    "    hue=\"part\", col=\"part\",\n",
    "    kind=\"line\",\n",
    "    col_wrap=2\n",
    ").savefig('graphs.png')"
   ]
  },
  {
   "cell_type": "markdown",
   "id": "57665551",
   "metadata": {},
   "source": [
    "# END"
   ]
  }
 ],
 "metadata": {
  "kernelspec": {
   "display_name": "Python 3 (ipykernel)",
   "language": "python",
   "name": "python3"
  },
  "language_info": {
   "codemirror_mode": {
    "name": "ipython",
    "version": 3
   },
   "file_extension": ".py",
   "mimetype": "text/x-python",
   "name": "python",
   "nbconvert_exporter": "python",
   "pygments_lexer": "ipython3",
   "version": "3.10.8"
  },
  "varInspector": {
   "cols": {
    "lenName": 16,
    "lenType": 16,
    "lenVar": 40
   },
   "kernels_config": {
    "python": {
     "delete_cmd_postfix": "",
     "delete_cmd_prefix": "del ",
     "library": "var_list.py",
     "varRefreshCmd": "print(var_dic_list())"
    },
    "r": {
     "delete_cmd_postfix": ") ",
     "delete_cmd_prefix": "rm(",
     "library": "var_list.r",
     "varRefreshCmd": "cat(var_dic_list()) "
    }
   },
   "position": {
    "height": "446.65px",
    "left": "1571.6px",
    "right": "20px",
    "top": "122px",
    "width": "465.8px"
   },
   "types_to_exclude": [
    "module",
    "function",
    "builtin_function_or_method",
    "instance",
    "_Feature"
   ],
   "window_display": false
  }
 },
 "nbformat": 4,
 "nbformat_minor": 5
}
